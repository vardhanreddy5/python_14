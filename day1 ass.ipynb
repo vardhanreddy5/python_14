{
 "cells": [
  {
   "cell_type": "code",
   "execution_count": 1,
   "id": "d9118b1b-f939-4c0d-8eb4-b34b3a4db46c",
   "metadata": {},
   "outputs": [
    {
     "name": "stdout",
     "output_type": "stream",
     "text": [
      "Integer variable: 10, Type: <class 'int'>\n",
      "Float variable: 3.14, Type: <class 'float'>\n",
      "String variable: Hello, Jupyter!, Type: <class 'str'>\n",
      "Boolean variable: True, Type: <class 'bool'>\n"
     ]
    }
   ],
   "source": [
    "# Declare variables of different data types\n",
    "\n",
    "# Integer\n",
    "int_var = 10\n",
    "\n",
    "# Float\n",
    "float_var = 3.14\n",
    "\n",
    "# String\n",
    "string_var = \"Hello, Jupyter!\"\n",
    "\n",
    "# Boolean\n",
    "bool_var = True\n",
    "\n",
    "# Print each variable and its type\n",
    "print(f\"Integer variable: {int_var}, Type: {type(int_var)}\")\n",
    "print(f\"Float variable: {float_var}, Type: {type(float_var)}\")\n",
    "print(f\"String variable: {string_var}, Type: {type(string_var)}\")\n",
    "print(f\"Boolean variable: {bool_var}, Type: {type(bool_var)}\")\n"
   ]
  },
  {
   "cell_type": "code",
   "execution_count": null,
   "id": "bcfe3df9-3ff4-4332-a06e-0f29ebba3154",
   "metadata": {},
   "outputs": [],
   "source": []
  }
 ],
 "metadata": {
  "kernelspec": {
   "display_name": "Python 3 (ipykernel)",
   "language": "python",
   "name": "python3"
  },
  "language_info": {
   "codemirror_mode": {
    "name": "ipython",
    "version": 3
   },
   "file_extension": ".py",
   "mimetype": "text/x-python",
   "name": "python",
   "nbconvert_exporter": "python",
   "pygments_lexer": "ipython3",
   "version": "3.12.7"
  }
 },
 "nbformat": 4,
 "nbformat_minor": 5
}
