{
 "cells": [
  {
   "cell_type": "code",
   "execution_count": 2,
   "id": "d9118b1b-f939-4c0d-8eb4-b34b3a4db46c",
   "metadata": {},
   "outputs": [
    {
     "name": "stdout",
     "output_type": "stream",
     "text": [
      "Third element from list: 30\n",
      "Second-to-last element from tuple: 20\n",
      "Value for key 'c' in dictionary: 3\n"
     ]
    }
   ],
   "source": [
    "# List Example\n",
    "my_list = [10, 20, 30, 40, 50]\n",
    "\n",
    "# Tuple Example\n",
    "my_tuple = (5, 10, 15, 20, 25)\n",
    "\n",
    "# Dictionary Example\n",
    "my_dict = {'a': 1, 'b': 2, 'c': 3, 'd': 4, 'e': 5}\n",
    "\n",
    "# Accessing elements from each\n",
    "\n",
    "# List: Access the third element\n",
    "third_from_list = my_list[2]  # Output: 30\n",
    "\n",
    "# Tuple: Access the second-to-last element\n",
    "second_to_last_from_tuple = my_tuple[-2]  # Output: 20\n",
    "\n",
    "# Dictionary: Access the value for key 'c'\n",
    "value_from_dict = my_dict['c']  # Output: 3\n",
    "\n",
    "# Print the results\n",
    "print(f\"Third element from list: {third_from_list}\")\n",
    "print(f\"Second-to-last element from tuple: {second_to_last_from_tuple}\")\n",
    "print(f\"Value for key 'c' in dictionary: {value_from_dict}\")\n"
   ]
  },
  {
   "cell_type": "code",
   "execution_count": null,
   "id": "bcfe3df9-3ff4-4332-a06e-0f29ebba3154",
   "metadata": {},
   "outputs": [],
   "source": []
  }
 ],
 "metadata": {
  "kernelspec": {
   "display_name": "Python 3 (ipykernel)",
   "language": "python",
   "name": "python3"
  },
  "language_info": {
   "codemirror_mode": {
    "name": "ipython",
    "version": 3
   },
   "file_extension": ".py",
   "mimetype": "text/x-python",
   "name": "python",
   "nbconvert_exporter": "python",
   "pygments_lexer": "ipython3",
   "version": "3.12.7"
  }
 },
 "nbformat": 4,
 "nbformat_minor": 5
}
