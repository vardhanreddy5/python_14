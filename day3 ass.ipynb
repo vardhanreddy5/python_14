{
 "cells": [
  {
   "cell_type": "code",
   "execution_count": 3,
   "id": "d9118b1b-f939-4c0d-8eb4-b34b3a4db46c",
   "metadata": {},
   "outputs": [
    {
     "name": "stdout",
     "output_type": "stream",
     "text": [
      "Second element from List: banana\n",
      "Fourth element from Tuple: 40\n",
      "Value for 'c' from Dictionary: 300\n",
      "Last element from List: elderberry\n",
      "Second-to-last element from Tuple: 40\n",
      "Value for 'e' from Dictionary: 500\n"
     ]
    }
   ],
   "source": [
    "# List Example\n",
    "my_list = ['apple', 'banana', 'cherry', 'date', 'elderberry']\n",
    "\n",
    "# Tuple Example\n",
    "my_tuple = (10, 20, 30, 40, 50)\n",
    "\n",
    "# Dictionary Example\n",
    "my_dict = {'a': 100, 'b': 200, 'c': 300, 'd': 400, 'e': 500}\n",
    "\n",
    "# Accessing elements from each data structure\n",
    "\n",
    "# List: Accessing the second element (index 1)\n",
    "second_from_list = my_list[1]  # 'banana'\n",
    "\n",
    "# Tuple: Accessing the fourth element (index 3)\n",
    "fourth_from_tuple = my_tuple[3]  # 40\n",
    "\n",
    "# Dictionary: Accessing the value for key 'c'\n",
    "value_from_dict = my_dict['c']  # 300\n",
    "\n",
    "# Accessing elements using negative indexing\n",
    "# List: Access the last element\n",
    "last_from_list = my_list[-1]  # 'elderberry'\n",
    "\n",
    "# Tuple: Access the second-to-last element\n",
    "second_last_from_tuple = my_tuple[-2]  # 40\n",
    "\n",
    "# Dictionary: Access the value for key 'e'\n",
    "value_last_dict = my_dict['e']  # 500\n",
    "\n",
    "# Output results\n",
    "print(\"Second element from List:\", second_from_list)\n",
    "print(\"Fourth element from Tuple:\", fourth_from_tuple)\n",
    "print(\"Value for 'c' from Dictionary:\", value_from_dict)\n",
    "print(\"Last element from List:\", last_from_list)\n",
    "print(\"Second-to-last element from Tuple:\", second_last_from_tuple)\n",
    "print(\"Value for 'e' from Dictionary:\", value_last_dict)\n"
   ]
  },
  {
   "cell_type": "code",
   "execution_count": null,
   "id": "bcfe3df9-3ff4-4332-a06e-0f29ebba3154",
   "metadata": {},
   "outputs": [],
   "source": []
  }
 ],
 "metadata": {
  "kernelspec": {
   "display_name": "Python 3 (ipykernel)",
   "language": "python",
   "name": "python3"
  },
  "language_info": {
   "codemirror_mode": {
    "name": "ipython",
    "version": 3
   },
   "file_extension": ".py",
   "mimetype": "text/x-python",
   "name": "python",
   "nbconvert_exporter": "python",
   "pygments_lexer": "ipython3",
   "version": "3.12.7"
  }
 },
 "nbformat": 4,
 "nbformat_minor": 5
}
