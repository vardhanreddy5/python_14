{
 "cells": [
  {
   "cell_type": "code",
   "execution_count": null,
   "id": "bcfe3df9-3ff4-4332-a06e-0f29ebba3154",
   "metadata": {},
   "outputs": [],
   "source": [
    "# Input: A positive integer n\n",
    "n = int(input(\"Enter a positive integer n: \"))\n",
    "\n",
    "# Initialize the sum\n",
    "even_sum = 0\n",
    "\n",
    "# Loop through all numbers from 1 to n\n",
    "for i in range(1, n + 1):\n",
    "    if i % 2 == 0:  # Check if the number is even\n",
    "        even_sum += i  # Add even number to the sum\n",
    "\n",
    "# Output the result\n",
    "print(f\"The sum of all even numbers between 1 and {n} is: {even_sum}\")\n"
   ]
  },
  {
   "cell_type": "code",
   "execution_count": null,
   "id": "c65c2de9-1b29-4337-ae98-f0db168edb8f",
   "metadata": {},
   "outputs": [],
   "source": []
  }
 ],
 "metadata": {
  "kernelspec": {
   "display_name": "Python 3 (ipykernel)",
   "language": "python",
   "name": "python3"
  },
  "language_info": {
   "codemirror_mode": {
    "name": "ipython",
    "version": 3
   },
   "file_extension": ".py",
   "mimetype": "text/x-python",
   "name": "python",
   "nbconvert_exporter": "python",
   "pygments_lexer": "ipython3",
   "version": "3.12.7"
  }
 },
 "nbformat": 4,
 "nbformat_minor": 5
}
