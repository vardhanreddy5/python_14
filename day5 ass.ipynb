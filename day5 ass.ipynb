{
 "cells": [
  {
   "cell_type": "code",
   "execution_count": null,
   "id": "c65c2de9-1b29-4337-ae98-f0db168edb8f",
   "metadata": {},
   "outputs": [],
   "source": [
    "# Task 1: Ask the user to enter a positive integer n\n",
    "n = int(input(\"Enter a positive integer n: \"))\n",
    "\n",
    "# Task 2: Use a for loop to print all numbers from 1 to n on separate lines\n",
    "print(\"\\nPrinting all numbers from 1 to\", n, \"using a for loop:\")\n",
    "for i in range(1, n + 1):\n",
    "    print(i)\n",
    "\n",
    "# Task 3: Use a while loop to calculate the sum of all numbers from 1 to n\n",
    "sum_of_numbers = 0\n",
    "i = 1\n",
    "while i <= n:\n",
    "    sum_of_numbers += i\n",
    "    i += 1\n",
    "\n",
    "print(\"\\nThe sum of all numbers from 1 to\", n, \"is:\", sum_of_numbers)\n",
    "\n",
    "\n",
    "# Task 4: Define a function to calculate the square of a number\n",
    "def calculate_square(n):\n",
    "    return n ** 2\n",
    "\n",
    "# Task 5: Ask the user to input a positive integer for square calculation\n",
    "n_square = int(input(\"\\nEnter a positive integer to calculate its square: \"))\n",
    "\n",
    "# Task 6: Call the calculate_square function and display the result\n",
    "square = calculate_square(n_square)\n",
    "print(f\"The square of {n_square} is: {square}\")\n"
   ]
  },
  {
   "cell_type": "code",
   "execution_count": null,
   "id": "b1d0b74a-9681-4f1d-9d24-f1fb7042b565",
   "metadata": {},
   "outputs": [],
   "source": []
  }
 ],
 "metadata": {
  "kernelspec": {
   "display_name": "Python 3 (ipykernel)",
   "language": "python",
   "name": "python3"
  },
  "language_info": {
   "codemirror_mode": {
    "name": "ipython",
    "version": 3
   },
   "file_extension": ".py",
   "mimetype": "text/x-python",
   "name": "python",
   "nbconvert_exporter": "python",
   "pygments_lexer": "ipython3",
   "version": "3.12.7"
  }
 },
 "nbformat": 4,
 "nbformat_minor": 5
}
