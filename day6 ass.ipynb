{
 "cells": [
  {
   "cell_type": "code",
   "execution_count": 1,
   "id": "e5efe0c7-8180-4914-82d9-f208241a323e",
   "metadata": {},
   "outputs": [
    {
     "name": "stdout",
     "output_type": "stream",
     "text": [
      "First 2 rows of the DataFrame:\n",
      "    Name  Age Department  Salary\n",
      "0   John   28         HR   45000\n",
      "1  Alice   34         IT   60000\n",
      "\n",
      "DataFrame with Bonus column added:\n",
      "    Name  Age Department  Salary   Bonus\n",
      "0   John   28         HR   45000  4500.0\n",
      "1  Alice   34         IT   60000  6000.0\n",
      "2    Bob   23  Marketing   35000  3500.0\n",
      "3  Diana   29    Finance   50000  5000.0\n",
      "\n",
      "The average salary of employees is: 47500.0\n",
      "\n",
      "Employees older than 25:\n",
      "    Name  Age Department  Salary   Bonus\n",
      "0   John   28         HR   45000  4500.0\n",
      "1  Alice   34         IT   60000  6000.0\n",
      "3  Diana   29    Finance   50000  5000.0\n"
     ]
    }
   ],
   "source": [
    "import pandas as pd\n",
    "\n",
    "# Task 1: Create the DataFrame\n",
    "data = {\n",
    "    'Name': ['John', 'Alice', 'Bob', 'Diana'],\n",
    "    'Age': [28, 34, 23, 29],\n",
    "    'Department': ['HR', 'IT', 'Marketing', 'Finance'],\n",
    "    'Salary': [45000, 60000, 35000, 50000]\n",
    "}\n",
    "\n",
    "df = pd.DataFrame(data)\n",
    "\n",
    "# Task 2: Display the first 2 rows of the DataFrame\n",
    "print(\"First 2 rows of the DataFrame:\")\n",
    "print(df.head(2))\n",
    "\n",
    "# Task 3: Add a new column 'Bonus' where the bonus is 10% of the salary\n",
    "df['Bonus'] = df['Salary'] * 0.10\n",
    "\n",
    "# Display the DataFrame after adding the 'Bonus' column\n",
    "print(\"\\nDataFrame with Bonus column added:\")\n",
    "print(df)\n",
    "\n",
    "# Task 4: Calculate the average salary of employees\n",
    "average_salary = df['Salary'].mean()\n",
    "print(\"\\nThe average salary of employees is:\", average_salary)\n",
    "\n",
    "# Task 5: Filter and display employees who are older than 25\n",
    "filtered_df = df[df['Age'] > 25]\n",
    "print(\"\\nEmployees older than 25:\")\n",
    "print(filtered_df)\n"
   ]
  },
  {
   "cell_type": "code",
   "execution_count": null,
   "id": "7dafc067-92c6-4eea-9661-d833cfca3859",
   "metadata": {},
   "outputs": [],
   "source": []
  }
 ],
 "metadata": {
  "kernelspec": {
   "display_name": "Python 3 (ipykernel)",
   "language": "python",
   "name": "python3"
  },
  "language_info": {
   "codemirror_mode": {
    "name": "ipython",
    "version": 3
   },
   "file_extension": ".py",
   "mimetype": "text/x-python",
   "name": "python",
   "nbconvert_exporter": "python",
   "pygments_lexer": "ipython3",
   "version": "3.12.7"
  }
 },
 "nbformat": 4,
 "nbformat_minor": 5
}
