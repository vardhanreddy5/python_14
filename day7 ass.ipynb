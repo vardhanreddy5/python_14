{
 "cells": [
  {
   "cell_type": "code",
   "execution_count": null,
   "id": "dda3fdd9-e5bd-4409-b027-5c5b6139bb6e",
   "metadata": {},
   "outputs": [],
   "source": [
    "import pandas as pd\n",
    "\n",
    "# Load the sales_data.csv file into a DataFrame\n",
    "df = pd.read_csv('sales_data.csv')\n",
    "\n",
    "# Task 1: Display the first 5 rows of the dataset\n",
    "print(\"First 5 rows of the dataset:\")\n",
    "print(df.head())\n",
    "\n",
    "# Task 2: Print basic statistics of the numerical columns using .describe()\n",
    "print(\"\\nBasic statistics of numerical columns:\")\n",
    "print(df.describe())\n",
    "\n",
    "# Data Analysis Tasks\n",
    "\n",
    "# Task 3: Calculate the total sales for each region\n",
    "# Assuming 'Region' and 'Sales' columns are present in the dataset\n",
    "total_sales_region = df.groupby('Region')['Sales'].sum()\n",
    "print(\"\\nTotal sales for each region:\")\n",
    "print(total_sales_region)\n",
    "\n",
    "# Task 4: Find the most sold product (based on quantity)\n",
    "# Assuming 'Product' and 'Quantity' columns are present in the dataset\n",
    "most_sold_product = df.groupby('Product')['Quantity'].sum().idxmax()\n",
    "print(\"\\nMost sold product based on quantity:\", most_sold_product)\n",
    "\n",
    "# Task 5: Compute the average profit margin for each product\n",
    "# Assuming 'Profit' and 'Sales' columns are present in the dataset\n",
    "df['Profit Margin'] = (df['Profit'] / df['Sales']) * 100\n",
    "avg_profit_margin = df.groupby('Product')['Profit Margin'].mean()\n",
    "print(\"\\nAverage profit margin for each product:\")\n",
    "print(avg_profit_margin)\n"
   ]
  },
  {
   "cell_type": "code",
   "execution_count": null,
   "id": "8753876c-a47d-476a-b467-a2862c405c4c",
   "metadata": {},
   "outputs": [],
   "source": []
  }
 ],
 "metadata": {
  "kernelspec": {
   "display_name": "Python 3 (ipykernel)",
   "language": "python",
   "name": "python3"
  },
  "language_info": {
   "codemirror_mode": {
    "name": "ipython",
    "version": 3
   },
   "file_extension": ".py",
   "mimetype": "text/x-python",
   "name": "python",
   "nbconvert_exporter": "python",
   "pygments_lexer": "ipython3",
   "version": "3.12.7"
  }
 },
 "nbformat": 4,
 "nbformat_minor": 5
}
