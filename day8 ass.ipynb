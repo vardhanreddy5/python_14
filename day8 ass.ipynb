{
 "cells": [
  {
   "cell_type": "code",
   "execution_count": null,
   "id": "8753876c-a47d-476a-b467-a2862c405c4c",
   "metadata": {},
   "outputs": [],
   "source": [
    "import numpy as np\n",
    "import pandas as pd\n",
    "\n",
    "# Assuming 'df' is your DataFrame\n",
    "df['Profit_Per_Unit'] = df['Profit'] / df['Quantity']\n",
    "df['High_Sales'] = np.where(df['Sales'] > 1000, 'Yes', 'No')\n",
    "\n",
    "# Filter the data: Sales > 1000 and Region is 'East'\n",
    "df_filtered = df[(df['Sales'] > 1000) & (df['Region'] == 'East')]\n",
    "\n",
    "# Display the resulting DataFrame\n",
    "print(df_filtered)\n"
   ]
  }
 ],
 "metadata": {
  "kernelspec": {
   "display_name": "Python 3 (ipykernel)",
   "language": "python",
   "name": "python3"
  },
  "language_info": {
   "codemirror_mode": {
    "name": "ipython",
    "version": 3
   },
   "file_extension": ".py",
   "mimetype": "text/x-python",
   "name": "python",
   "nbconvert_exporter": "python",
   "pygments_lexer": "ipython3",
   "version": "3.12.7"
  }
 },
 "nbformat": 4,
 "nbformat_minor": 5
}
